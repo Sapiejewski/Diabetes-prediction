{
 "cells": [
  {
   "cell_type": "code",
   "execution_count": 2,
   "metadata": {},
   "outputs": [],
   "source": [
    "from imblearn.over_sampling import SMOTE\n",
    "import pandas as pd"
   ]
  },
  {
   "cell_type": "code",
   "execution_count": 15,
   "metadata": {},
   "outputs": [
    {
     "name": "stdout",
     "output_type": "stream",
     "text": [
      "14065 85935\n",
      "85935 85935\n",
      "Stored 'X_resampled' (DataFrame)\n",
      "Stored 'y_resampled' (Series)\n"
     ]
    }
   ],
   "source": [
    "%store -r data_reduced_to_100k\n",
    "# print(data_reduced_to_100k)\n",
    "\n",
    "X = data_reduced_to_100k.drop(\"Diabetes_binary\",axis=1)\n",
    "y= data_reduced_to_100k[\"Diabetes_binary\"]\n",
    "print((y==1).sum(),(y==0).sum())\n",
    "\n",
    "smote = SMOTE(random_state=1)\n",
    "X_resampled,y_resampled = smote.fit_resample(X,y)\n",
    "print((y_resampled==1).sum(),(y_resampled==0).sum())\n",
    "%store X_resampled``\n",
    "%store y_resampled"
   ]
  },
  {
   "cell_type": "markdown",
   "metadata": {},
   "source": [
    "Now the amount of healthy people is the same with the amount of people with diabetes"
   ]
  }
 ],
 "metadata": {
  "kernelspec": {
   "display_name": "Python 3",
   "language": "python",
   "name": "python3"
  },
  "language_info": {
   "codemirror_mode": {
    "name": "ipython",
    "version": 3
   },
   "file_extension": ".py",
   "mimetype": "text/x-python",
   "name": "python",
   "nbconvert_exporter": "python",
   "pygments_lexer": "ipython3",
   "version": "3.11.4"
  }
 },
 "nbformat": 4,
 "nbformat_minor": 2
}
