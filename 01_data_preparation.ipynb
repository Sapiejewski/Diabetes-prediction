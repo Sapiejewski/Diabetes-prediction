{
 "cells": [
  {
   "cell_type": "code",
   "execution_count": 2,
   "metadata": {},
   "outputs": [],
   "source": [
    "import pandas as pd\n",
    "import numpy as np \n",
    "from sklearn.model_selection import train_test_split"
   ]
  },
  {
   "cell_type": "markdown",
   "metadata": {},
   "source": [
    "## I reduce the amount of data so that I will see the propable outcome without waiting too much for the outcome. I am going to work with SGD Classifier so my sample size should be around 100k of records"
   ]
  },
  {
   "cell_type": "code",
   "execution_count": 3,
   "metadata": {},
   "outputs": [
    {
     "name": "stdout",
     "output_type": "stream",
     "text": [
      "Stored 'data_reduced_to_100k' (DataFrame)\n",
      "Stored 'X_train' (DataFrame)\n",
      "Stored 'X_test' (DataFrame)\n",
      "Stored 'y_train' (Series)\n",
      "Stored 'y_test' (Series)\n"
     ]
    }
   ],
   "source": [
    "path= \"./data/diabetes_binary_health_indicators_BRFSS2021.csv\"\n",
    "data = pd.read_csv(path)\n",
    "\n",
    "data.head()\n",
    "#There are no any missing values \n",
    "#data.isna().sum()\n",
    "\n",
    "#data.dtypes\n",
    "# all data is numerical\n",
    "data_reduced_to_100k = data.sample(n = 100000, random_state=1)\n",
    "%store data_reduced_to_100k\n",
    "X = data_reduced_to_100k.drop(\"Diabetes_binary\",axis=1)\n",
    "y = data_reduced_to_100k[\"Diabetes_binary\"]\n",
    "\n",
    "X_train, X_test, y_train, y_test = train_test_split(X, y, test_size=0.25)\n",
    "\n",
    "\n",
    "%store X_train\n",
    "%store X_test\n",
    "%store y_train\n",
    "%store y_test"
   ]
  },
  {
   "cell_type": "code",
   "execution_count": 6,
   "metadata": {},
   "outputs": [
    {
     "data": {
      "text/plain": [
       "Diabetes_binary          0.121844\n",
       "HighBP                   0.243368\n",
       "HighChol                 0.240409\n",
       "CholCheck                0.035310\n",
       "BMI                     42.929429\n",
       "Smoker                   0.242256\n",
       "Stroke                   0.037387\n",
       "HeartDiseaseorAttack     0.079058\n",
       "PhysActivity             0.172031\n",
       "Fruits                   0.235297\n",
       "Veggies                  0.142569\n",
       "HvyAlcoholConsump        0.058229\n",
       "AnyHealthcare            0.036027\n",
       "NoDocbcCost              0.059675\n",
       "GenHlth                  1.059116\n",
       "MentHlth                62.196977\n",
       "PhysHlth                67.994979\n",
       "DiffWalk                 0.130249\n",
       "Sex                      0.249509\n",
       "Age                     10.478149\n",
       "Education                0.895267\n",
       "Income                   5.642761\n",
       "dtype: float64"
      ]
     },
     "execution_count": 6,
     "metadata": {},
     "output_type": "execute_result"
    }
   ],
   "source": [
    "#data.mean()\n",
    "#data.var()\n"
   ]
  }
 ],
 "metadata": {
  "kernelspec": {
   "display_name": "Python 3",
   "language": "python",
   "name": "python3"
  },
  "language_info": {
   "codemirror_mode": {
    "name": "ipython",
    "version": 3
   },
   "file_extension": ".py",
   "mimetype": "text/x-python",
   "name": "python",
   "nbconvert_exporter": "python",
   "pygments_lexer": "ipython3",
   "version": "3.11.4"
  }
 },
 "nbformat": 4,
 "nbformat_minor": 2
}
